{
  "nbformat": 4,
  "nbformat_minor": 0,
  "metadata": {
    "colab": {
      "name": "MRCNN.ipynb",
      "provenance": [],
      "collapsed_sections": []
    },
    "kernelspec": {
      "name": "python3",
      "display_name": "Python 3"
    },
    "accelerator": "GPU"
  },
  "cells": [
    {
      "cell_type": "code",
      "metadata": {
        "id": "1LlFgRpplfbh",
        "colab_type": "code",
        "colab": {
          "base_uri": "https://localhost:8080/",
          "height": 235
        },
        "outputId": "89496ccf-f9ed-47ab-86b2-1851aec5423e"
      },
      "source": [
        "!apt-get install -y -qq software-properties-common python-software-properties module-init-tools\n",
        "!add-apt-repository -y ppa:alessandro-strada/ppa 2>&1 > /dev/null\n",
        "!apt-get update -qq 2>&1 > /dev/null\n",
        "!apt-get -y install -qq google-drive-ocamlfuse fuse\n",
        "from google.colab import auth\n",
        "auth.authenticate_user()\n",
        "from oauth2client.client import GoogleCredentials\n",
        "creds = GoogleCredentials.get_application_default()\n",
        "import getpass\n",
        "!google-drive-ocamlfuse -headless -id={creds.client_id} -secret={creds.client_secret} < /dev/null 2>&1 | grep URL\n",
        "vcode = getpass.getpass()\n",
        "!echo {vcode} | google-drive-ocamlfuse -headless -id={creds.client_id} -secret={creds.client_secret}"
      ],
      "execution_count": 3,
      "outputs": [
        {
          "output_type": "stream",
          "text": [
            "E: Package 'python-software-properties' has no installation candidate\n",
            "Selecting previously unselected package google-drive-ocamlfuse.\n",
            "(Reading database ... 145118 files and directories currently installed.)\n",
            "Preparing to unpack .../google-drive-ocamlfuse_0.7.17-0ubuntu2~ubuntu18.04.1_amd64.deb ...\n",
            "Unpacking google-drive-ocamlfuse (0.7.17-0ubuntu2~ubuntu18.04.1) ...\n",
            "Setting up google-drive-ocamlfuse (0.7.17-0ubuntu2~ubuntu18.04.1) ...\n",
            "Processing triggers for man-db (2.8.3-2ubuntu0.1) ...\n",
            "Please, open the following URL in a web browser: https://accounts.google.com/o/oauth2/auth?client_id=32555940559.apps.googleusercontent.com&redirect_uri=urn%3Aietf%3Awg%3Aoauth%3A2.0%3Aoob&scope=https%3A%2F%2Fwww.googleapis.com%2Fauth%2Fdrive&response_type=code&access_type=offline&approval_prompt=force\n",
            "··········\n",
            "Please, open the following URL in a web browser: https://accounts.google.com/o/oauth2/auth?client_id=32555940559.apps.googleusercontent.com&redirect_uri=urn%3Aietf%3Awg%3Aoauth%3A2.0%3Aoob&scope=https%3A%2F%2Fwww.googleapis.com%2Fauth%2Fdrive&response_type=code&access_type=offline&approval_prompt=force\n",
            "Please enter the verification code: Access token retrieved correctly.\n"
          ],
          "name": "stdout"
        }
      ]
    },
    {
      "cell_type": "code",
      "metadata": {
        "id": "2uQ-jtjaZx4o",
        "colab_type": "code",
        "colab": {}
      },
      "source": [
        "from tensorflow.python.client import device_lib\n",
        "device_lib.list_local_devices()"
      ],
      "execution_count": 0,
      "outputs": []
    },
    {
      "cell_type": "code",
      "metadata": {
        "id": "DRNxr3xyEGRs",
        "colab_type": "code",
        "colab": {}
      },
      "source": [
        "!mkdir -p drive\n",
        "!google-drive-ocamlfuse drive # 此时colab中出现drive的文件夹，里面就是你的google drive的根目录文件"
      ],
      "execution_count": 0,
      "outputs": []
    },
    {
      "cell_type": "code",
      "metadata": {
        "id": "j18ZiSUoD6bc",
        "colab_type": "code",
        "colab": {}
      },
      "source": [
        "import os\n",
        "os.chdir(\"drive/Colab_Notebooks\") "
      ],
      "execution_count": 0,
      "outputs": []
    },
    {
      "cell_type": "code",
      "metadata": {
        "id": "apL1G5hUF7xu",
        "colab_type": "code",
        "colab": {
          "base_uri": "https://localhost:8080/",
          "height": 53
        },
        "outputId": "bf750e95-2de9-428e-d28d-9ab642e3a9b7"
      },
      "source": [
        "!pip install -q mrcnn"
      ],
      "execution_count": 2,
      "outputs": [
        {
          "output_type": "stream",
          "text": [
            "\u001b[?25l\r\u001b[K     |██████▍                         | 10kB 25.6MB/s eta 0:00:01\r\u001b[K     |████████████▊                   | 20kB 28.4MB/s eta 0:00:01\r\u001b[K     |███████████████████             | 30kB 32.0MB/s eta 0:00:01\r\u001b[K     |█████████████████████████▌      | 40kB 35.3MB/s eta 0:00:01\r\u001b[K     |███████████████████████████████▉| 51kB 36.5MB/s eta 0:00:01\r\u001b[K     |████████████████████████████████| 61kB 8.6MB/s \n",
            "\u001b[?25h  Building wheel for mrcnn (setup.py) ... \u001b[?25l\u001b[?25hdone\n"
          ],
          "name": "stdout"
        }
      ]
    },
    {
      "cell_type": "code",
      "metadata": {
        "id": "UbgqR9UxlsyY",
        "colab_type": "code",
        "colab": {}
      },
      "source": [
        "from os import listdir\n",
        "from xml.etree import ElementTree\n",
        "from numpy import zeros\n",
        "from numpy import asarray\n",
        "from mrcnn.utils import Dataset\n",
        "from mrcnn.config import Config\n",
        "from mrcnn.model import MaskRCNN\n",
        "import h5py\n",
        "from PIL import Image"
      ],
      "execution_count": 0,
      "outputs": []
    },
    {
      "cell_type": "code",
      "metadata": {
        "id": "jeK14vTBzv-n",
        "colab_type": "code",
        "colab": {}
      },
      "source": [
        "class HelmetDataset(Dataset):\n",
        "    # 加载数据集定义\n",
        "    def load_dataset(self, dataset_dir, is_train=True):\n",
        "        # 定义识别需要的两个类\n",
        "        self.add_class(\"dataset\", 1, \"PersonWithHelmet\")\n",
        "        self.add_class(\"dataset\", 2, \"PersonWithoutHelmet\")\n",
        "        # 数据所在位置\n",
        "        images_dir = dataset_dir + 'Selected_Revised/'\n",
        "        annotations_dir = dataset_dir + 'Annotations/'\n",
        "        # 定位到所有图像\n",
        "        for filename in listdir(images_dir):\n",
        "            if filename[4:5] == '2' and filename[0:1] == 'p':\n",
        "                image_id = str(int(filename[-9:-4]) + 10000)\n",
        "            elif filename[4:5] == 'A':\n",
        "                image_id = str(int(filename[-9:-4]) + 20000)\n",
        "            elif filename[4:5] == 'B':\n",
        "                image_id = str(int(filename[-9:-4]) + 30000)\n",
        "            else:\n",
        "                image_id = filename[-9:-4]\n",
        "\n",
        "            # 训练集略过 500 序号之前的所有图像\n",
        "            if is_train and int(image_id) <= 900:\n",
        "                continue\n",
        "            # 测试集略过 500 序号之后的所有图像\n",
        "            if not is_train and int(image_id) > 900:\n",
        "                continue\n",
        "            if int(image_id) == 72 or int(image_id) == 20535 or int(image_id) == 20748 or int(image_id) == 20414 or int(image_id) == 552:\n",
        "                continue\n",
        "            if int(image_id) == 20125 or int(image_id) == 20738 or int(image_id) == 20736 or int(image_id) == 20446 or int(image_id) == 20206:\n",
        "                continue\n",
        "            if int(image_id) == 20498 or int(image_id) == 20501 or int(image_id) == 20505 or int(image_id) == 20650 or int(image_id) == 990:\n",
        "                continue\n",
        "            if int(image_id) == 20183 or int(image_id) == 30105 or int(image_id) == 20220 or int(image_id) == 31493 or int(image_id) == 20476:\n",
        "                continue\n",
        "            if int(image_id) == 20762 or int(image_id) == 32271 or int(image_id) == 32287 or int(image_id) == 30233:\n",
        "                continue\n",
        "            if int(image_id) == 73 or int(image_id) == 74 or int(image_id) == 75 or int(image_id) == 32274:\n",
        "                continue\n",
        "            img_path = images_dir + filename\n",
        "            ann_path = annotations_dir + filename[:-4] + '.xml'\n",
        "            # 添加到数据集\n",
        "            self.add_image('dataset', image_id=image_id, path=img_path, annotation=ann_path)\n",
        "\n",
        "    # 从注解文件中提取边框值\n",
        "    def extract_boxes(self, filename):\n",
        "        # 加载并解析文件\n",
        "        tree = ElementTree.parse(filename)\n",
        "        # 获取文档根元素\n",
        "        root = tree.getroot()\n",
        "        # 提取出图像尺寸及每个 bounding box 元素\n",
        "        boxes = list()\n",
        "        for object in root.findall('.//object'):\n",
        "            name = object.find('name').text\n",
        "            xmin = int(object.find('.//bndbox/xmin').text)\n",
        "            ymin = int(object.find('.//bndbox/ymin').text)\n",
        "            xmax = int(object.find('.//bndbox/xmax').text)\n",
        "            ymax = int(object.find('.//bndbox/ymax').text)\n",
        "            coors = [xmin, ymin, xmax, ymax, name]\n",
        "            boxes.append(coors)\n",
        "\n",
        "        width = int(root.find('.//size/width').text)\n",
        "        height = int(root.find('.//size/height').text)\n",
        "        return boxes, width, height\n",
        "\n",
        "    # 加载图像掩膜\n",
        "    def load_mask(self, image_id):\n",
        "        # 获取图像详细信息\n",
        "        info = self.image_info[image_id]\n",
        "        # 定义盒文件位置\n",
        "        path = info['annotation']\n",
        "        # 加载 XML\n",
        "        boxes, w, h = self.extract_boxes(path)\n",
        "        # 为所有掩膜创建一个数组，每个数组都位于不同的通道\n",
        "        masks = zeros([h, w, len(boxes)], dtype='uint8')\n",
        "        # 创建掩膜\n",
        "        class_ids = list()\n",
        "        for i in range(len(boxes)):\n",
        "            box = boxes[i]\n",
        "            row_s, row_e = box[1], box[3]\n",
        "            col_s, col_e = box[0], box[2]\n",
        "            if box[4] == 'hat':\n",
        "                masks[row_s:row_e, col_s:col_e, i] = 1\n",
        "                class_ids.append(self.class_names.index('PersonWithHelmet'))\n",
        "            else:\n",
        "                masks[row_s:row_e, col_s:col_e, i] = 2\n",
        "                class_ids.append(self.class_names.index('PersonWithoutHelmet'))\n",
        "        return masks, asarray(class_ids, dtype='int32')\n",
        "\n",
        "    # 加载图像引用\n",
        "    def image_reference(self, image_id):\n",
        "        info = self.image_info[image_id]\n",
        "        return info['path']"
      ],
      "execution_count": 0,
      "outputs": []
    },
    {
      "cell_type": "code",
      "metadata": {
        "id": "bwS1PYi9zCmC",
        "colab_type": "code",
        "outputId": "885ea1b7-2a82-42c7-ba5b-65ca4a41fd28",
        "colab": {
          "base_uri": "https://localhost:8080/",
          "height": 53
        }
      },
      "source": [
        "# 训练集\n",
        "train_set = HelmetDataset()\n",
        "train_set.load_dataset('', is_train=True)\n",
        "train_set.prepare()\n",
        "print('Train: %d' % len(train_set.image_ids))\n",
        "\n",
        "# 测试集\n",
        "test_set = HelmetDataset()\n",
        "test_set.load_dataset('', is_train=False)\n",
        "test_set.prepare()\n",
        "print('Test: %d' % len(test_set.image_ids))"
      ],
      "execution_count": 31,
      "outputs": [
        {
          "output_type": "stream",
          "text": [
            "Train: 4060\n",
            "Test: 852\n"
          ],
          "name": "stdout"
        }
      ]
    },
    {
      "cell_type": "code",
      "metadata": {
        "id": "fgmQC9k0y6Qj",
        "colab_type": "code",
        "colab": {}
      },
      "source": [
        "# 定义模型配置\n",
        "class HelmetConfig(Config):\n",
        "    # 定义配置名\n",
        "    NAME = \"Helmet_cfg\"\n",
        "    # 类的数量\n",
        "    NUM_CLASSES = 1 + 2\n",
        "    \n",
        "    GPU_COUNT = 1\n",
        "    IMAGES_PER_GPU = 4\n",
        "    IMAGE_MIN_DIM = 400\n",
        "    IMAGE_MAX_DIM = 512\n",
        "    TRAIN_ROIS_PER_IMAGE = 100\n",
        "    # 每轮训练的迭代数量\n",
        "    STEPS_PER_EPOCH = 1015\n",
        "    VALIDATION_STEPS = 213"
      ],
      "execution_count": 0,
      "outputs": []
    },
    {
      "cell_type": "code",
      "metadata": {
        "id": "TqteMd8MzPAb",
        "colab_type": "code",
        "outputId": "280e037d-345d-4dde-8903-b8cbd585be1e",
        "colab": {
          "base_uri": "https://localhost:8080/",
          "height": 917
        }
      },
      "source": [
        "# 配置信息\n",
        "config = HelmetConfig()\n",
        "config.display()"
      ],
      "execution_count": 33,
      "outputs": [
        {
          "output_type": "stream",
          "text": [
            "\n",
            "Configurations:\n",
            "BACKBONE                       resnet101\n",
            "BACKBONE_STRIDES               [4, 8, 16, 32, 64]\n",
            "BATCH_SIZE                     4\n",
            "BBOX_STD_DEV                   [0.1 0.1 0.2 0.2]\n",
            "COMPUTE_BACKBONE_SHAPE         None\n",
            "DETECTION_MAX_INSTANCES        100\n",
            "DETECTION_MIN_CONFIDENCE       0.7\n",
            "DETECTION_NMS_THRESHOLD        0.3\n",
            "FPN_CLASSIF_FC_LAYERS_SIZE     1024\n",
            "GPU_COUNT                      1\n",
            "GRADIENT_CLIP_NORM             5.0\n",
            "IMAGES_PER_GPU                 4\n",
            "IMAGE_MAX_DIM                  512\n",
            "IMAGE_META_SIZE                15\n",
            "IMAGE_MIN_DIM                  400\n",
            "IMAGE_MIN_SCALE                0\n",
            "IMAGE_RESIZE_MODE              square\n",
            "IMAGE_SHAPE                    [512 512   3]\n",
            "LEARNING_MOMENTUM              0.9\n",
            "LEARNING_RATE                  0.001\n",
            "LOSS_WEIGHTS                   {'rpn_class_loss': 1.0, 'rpn_bbox_loss': 1.0, 'mrcnn_class_loss': 1.0, 'mrcnn_bbox_loss': 1.0, 'mrcnn_mask_loss': 1.0}\n",
            "MASK_POOL_SIZE                 14\n",
            "MASK_SHAPE                     [28, 28]\n",
            "MAX_GT_INSTANCES               100\n",
            "MEAN_PIXEL                     [123.7 116.8 103.9]\n",
            "MINI_MASK_SHAPE                (56, 56)\n",
            "NAME                           Helmet_cfg\n",
            "NUM_CLASSES                    3\n",
            "POOL_SIZE                      7\n",
            "POST_NMS_ROIS_INFERENCE        1000\n",
            "POST_NMS_ROIS_TRAINING         2000\n",
            "ROI_POSITIVE_RATIO             0.33\n",
            "RPN_ANCHOR_RATIOS              [0.5, 1, 2]\n",
            "RPN_ANCHOR_SCALES              (32, 64, 128, 256, 512)\n",
            "RPN_ANCHOR_STRIDE              1\n",
            "RPN_BBOX_STD_DEV               [0.1 0.1 0.2 0.2]\n",
            "RPN_NMS_THRESHOLD              0.7\n",
            "RPN_TRAIN_ANCHORS_PER_IMAGE    256\n",
            "STEPS_PER_EPOCH                1015\n",
            "TOP_DOWN_PYRAMID_SIZE          256\n",
            "TRAIN_BN                       False\n",
            "TRAIN_ROIS_PER_IMAGE           100\n",
            "USE_MINI_MASK                  True\n",
            "USE_RPN_ROIS                   True\n",
            "VALIDATION_STEPS               213\n",
            "WEIGHT_DECAY                   0.0001\n",
            "\n",
            "\n"
          ],
          "name": "stdout"
        }
      ]
    },
    {
      "cell_type": "code",
      "metadata": {
        "id": "650xQIcWl4rR",
        "colab_type": "code",
        "colab": {}
      },
      "source": [
        "# 定义模型\n",
        "model = MaskRCNN(mode='training', model_dir='./', config=config)\n",
        "model.keras_model.metrics_tensors = []\n",
        "# 加载 mscoco 权重信息，排除输出层\n",
        "model.load_weights('mask_rcnn_coco.h5', by_name=True, exclude=[\"mrcnn_class_logits\", \"mrcnn_bbox_fc\", \"mrcnn_bbox\", \"mrcnn_mask\"])"
      ],
      "execution_count": 0,
      "outputs": []
    },
    {
      "cell_type": "code",
      "metadata": {
        "id": "QPaHaty4zJGq",
        "colab_type": "code",
        "outputId": "99a2cf5e-e90a-4ad6-c1af-9a635471accc",
        "colab": {
          "base_uri": "https://localhost:8080/",
          "height": 791
        }
      },
      "source": [
        "# 训练\n",
        "model.train(train_set, test_set, learning_rate=config.LEARNING_RATE, epochs=4, layers='heads')"
      ],
      "execution_count": 0,
      "outputs": [
        {
          "output_type": "stream",
          "text": [
            "\n",
            "Starting at epoch 0. LR=0.001\n",
            "\n",
            "Checkpoint Path: ./helmet_cfg20200307T0948/mask_rcnn_helmet_cfg_{epoch:04d}.h5\n",
            "Selecting layers to train\n",
            "fpn_c5p5               (Conv2D)\n",
            "fpn_c4p4               (Conv2D)\n",
            "fpn_c3p3               (Conv2D)\n",
            "fpn_c2p2               (Conv2D)\n",
            "fpn_p5                 (Conv2D)\n",
            "fpn_p2                 (Conv2D)\n",
            "fpn_p3                 (Conv2D)\n",
            "fpn_p4                 (Conv2D)\n",
            "In model:  rpn_model\n",
            "    rpn_conv_shared        (Conv2D)\n",
            "    rpn_class_raw          (Conv2D)\n",
            "    rpn_bbox_pred          (Conv2D)\n",
            "mrcnn_mask_conv1       (TimeDistributed)\n",
            "mrcnn_mask_bn1         (TimeDistributed)\n",
            "mrcnn_mask_conv2       (TimeDistributed)\n",
            "mrcnn_mask_bn2         (TimeDistributed)\n",
            "mrcnn_class_conv1      (TimeDistributed)\n",
            "mrcnn_class_bn1        (TimeDistributed)\n",
            "mrcnn_mask_conv3       (TimeDistributed)\n",
            "mrcnn_mask_bn3         (TimeDistributed)\n",
            "mrcnn_class_conv2      (TimeDistributed)\n",
            "mrcnn_class_bn2        (TimeDistributed)\n",
            "mrcnn_mask_conv4       (TimeDistributed)\n",
            "mrcnn_mask_bn4         (TimeDistributed)\n",
            "mrcnn_bbox_fc          (TimeDistributed)\n",
            "mrcnn_mask_deconv      (TimeDistributed)\n",
            "mrcnn_class_logits     (TimeDistributed)\n",
            "mrcnn_mask             (TimeDistributed)\n"
          ],
          "name": "stdout"
        },
        {
          "output_type": "stream",
          "text": [
            "/usr/local/lib/python3.6/dist-packages/tensorflow_core/python/framework/indexed_slices.py:424: UserWarning: Converting sparse IndexedSlices to a dense Tensor of unknown shape. This may consume a large amount of memory.\n",
            "  \"Converting sparse IndexedSlices to a dense Tensor of unknown shape. \"\n",
            "/usr/local/lib/python3.6/dist-packages/tensorflow_core/python/framework/indexed_slices.py:424: UserWarning: Converting sparse IndexedSlices to a dense Tensor of unknown shape. This may consume a large amount of memory.\n",
            "  \"Converting sparse IndexedSlices to a dense Tensor of unknown shape. \"\n",
            "/usr/local/lib/python3.6/dist-packages/tensorflow_core/python/framework/indexed_slices.py:424: UserWarning: Converting sparse IndexedSlices to a dense Tensor of unknown shape. This may consume a large amount of memory.\n",
            "  \"Converting sparse IndexedSlices to a dense Tensor of unknown shape. \"\n",
            "/usr/local/lib/python3.6/dist-packages/keras/engine/training_generator.py:49: UserWarning: Using a generator with `use_multiprocessing=True` and multiple workers may duplicate your data. Please consider using the `keras.utils.Sequence class.\n",
            "  UserWarning('Using a generator with `use_multiprocessing=True`'\n"
          ],
          "name": "stderr"
        },
        {
          "output_type": "stream",
          "text": [
            "Epoch 1/4\n",
            "  44/1015 [>.............................] - ETA: 1:41:12 - loss: 2.2882 - rpn_class_loss: 0.1027 - rpn_bbox_loss: 0.5459 - mrcnn_class_loss: 0.4709 - mrcnn_bbox_loss: 0.5863 - mrcnn_mask_loss: 0.5825"
          ],
          "name": "stdout"
        }
      ]
    }
  ]
}